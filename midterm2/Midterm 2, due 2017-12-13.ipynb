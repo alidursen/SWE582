{
 "cells": [
  {
   "cell_type": "code",
   "execution_count": 46,
   "metadata": {},
   "outputs": [
    {
     "name": "stdout",
     "output_type": "stream",
     "text": [
      "After our observation, our agent is most likely to be found at tile: 7 (keep 0-index in mind).\n"
     ]
    },
    {
     "data": {
      "text/plain": [
       "array([ 0.        ,  0.        ,  0.        ,  0.        ,  0.00150178,\n",
       "        0.04054815,  0.        ,  0.95795007,  0.        ,  0.        ])"
      ]
     },
     "execution_count": 46,
     "metadata": {},
     "output_type": "execute_result"
    }
   ],
   "source": [
    "\"\"\"Here we are to solve a Hidden Markov Model, similar to (but simpler than) the one we did in class.\n",
    "We have a circular corridor of 10 tiles, 2 colours.\n",
    "Our agent can move 1 tile forwsard or stay put, but not randomly jump around.\n",
    "Our indicator, when works, always show the correct tile colour (but often is uninformative).\n",
    "We are given an observation sequence and asked to produce an output array, where each entry\n",
    "shows probability of currently being there.\n",
    "\"\"\"\n",
    "\n",
    "import numpy\n",
    "\n",
    "# Following D. Barber's book, p. 470;\n",
    "nT = 10 # number of tiles\n",
    "nI = 3 # number of indicators (colors we see)\n",
    "TM=numpy.zeros([nT,nT]) # TRANSITION_MATRIX\n",
    "for i in range(nT):\n",
    "    TM[i,i]=0.1\n",
    "    TM[(i+1)%(nT),i]=0.9\n",
    "I = numpy.zeros(nT) # INITIAL position\n",
    "I[0]=1\n",
    "\n",
    "COLORS = numpy.array([1,1,-1,1,-1,-1,1,-1,-1,1])\n",
    "OBSERVATION = numpy.array([1,1,1,2,1,1,0,0,0,2,1,1,2])\n",
    "nO = OBSERVATION.size\n",
    "\n",
    "EM=numpy.zeros([nI,nT]) # EMISSION_MATRIX\n",
    "# 1st row: it shows black; 2nd row: green; 3rd: white\n",
    "for i in range(nT):\n",
    "    if COLORS[i]>0:\n",
    "        EM[0,i]=0.3\n",
    "        EM[1,i]=0.7\n",
    "    else:\n",
    "        EM[1,i]=0.8\n",
    "        EM[2,i]=0.2\n",
    "        \n",
    "# Again, by D. Barber's book, this is a FILTERING problem ie. finding p(h_t|v_{1:t})\n",
    "# To avoid potential underflow problems, we're normalizing each alpha[]\n",
    "ALPHA = numpy.zeros([nO,nT])\n",
    "ALPHA[0]=(I*EM[OBSERVATION[0]])/numpy.sum(I*EM[OBSERVATION[0]])\n",
    "for i in range(1,nO):\n",
    "    k=ALPHA[i-1].T\n",
    "    k=numpy.dot(TM,k)\n",
    "    k=EM[OBSERVATION[i]]*k\n",
    "    k=k/numpy.sum(k)\n",
    "    ALPHA[i]=k.T\n",
    "\n",
    "print(\"After our observation, our agent is most likely to be found at tile: {} (keep 0-index in mind).\".format(numpy.argmax(ALPHA[nO-1])))\n",
    "ALPHA[nO-1]"
   ]
  }
 ],
 "metadata": {
  "kernelspec": {
   "display_name": "Python 3",
   "language": "python",
   "name": "python3"
  },
  "language_info": {
   "codemirror_mode": {
    "name": "ipython",
    "version": 3
   },
   "file_extension": ".py",
   "mimetype": "text/x-python",
   "name": "python",
   "nbconvert_exporter": "python",
   "pygments_lexer": "ipython3",
   "version": "3.6.1"
  }
 },
 "nbformat": 4,
 "nbformat_minor": 2
}
