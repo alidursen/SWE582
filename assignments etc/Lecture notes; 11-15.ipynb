{
 "cells": [
  {
   "cell_type": "markdown",
   "metadata": {},
   "source": [
    "Today we will look at predictive models. Scenario is as thus:<br>A ball is moving between some randomly coloured but totally known vertices. It either moves a step or stays, OR makes a huge leap, with varying possibilities. Further, our knowledge of current colour may be incorrect.<br>Still, question is: given \"current\" colour, can you guess current location?<br>See <a href=\"https://github.com/atcemgil/notes/blob/master/HiddenMarkovModel.ipynb\">Hidden Markov Model</a> here."
   ]
  },
  {
   "cell_type": "markdown",
   "metadata": {},
   "source": [
    "As homework we're expected to find\n",
    "<ul>\n",
    "<li>$p(x_2|y_1=1)$\n",
    "<li>$p(x_2|y_1=1,y_2=1)$\n",
    "<li>$p(y_2|y_1=1)$\n",
    "</ul>\n",
    "where $y_t=1 = (0.1,0.1,0.9)$, $y_t=2 = (0.9,0.9,0.1)$, and $X$ is as: $ \\ [0.1|0|0.9] \\ [0.9|0.1|0] \\ [0|0.9|0.1]$"
   ]
  },
  {
   "cell_type": "code",
   "execution_count": 50,
   "metadata": {},
   "outputs": [],
   "source": [
    "import numpy\n",
    "\n",
    "p_y_x = numpy.array(([0.1, 0.1, 0.9], [0.9,0.9,0.1]))\n",
    "p_xnext_x = numpy.array(([0.1,0,0.9],[0.9,0.1,0],[0,0.9,0.1]))\n",
    "\n",
    "p_x1 = numpy.array([0.5,0.5,0])\n",
    "\n",
    "p_y1_x1 = numpy.dot(p_y_x, p_x1)\n",
    "p_x2_y1 = numpy.dot(p_xnext_x,(p_x1*p_y_x).T)/p_y1_x1\n",
    "\n",
    "def px2y1(i):\n",
    "    return p_x2_y1[:,i-1]\n",
    "\n"
   ]
  },
  {
   "cell_type": "code",
   "execution_count": 51,
   "metadata": {},
   "outputs": [
    {
     "data": {
      "text/plain": [
       "array([ 0.05,  0.5 ,  0.45])"
      ]
     },
     "execution_count": 51,
     "metadata": {},
     "output_type": "execute_result"
    }
   ],
   "source": [
    "P_X2_Y11"
   ]
  },
  {
   "cell_type": "code",
   "execution_count": 49,
   "metadata": {},
   "outputs": [
    {
     "data": {
      "text/plain": [
       "array([[ 0.05,  0.05],\n",
       "       [ 0.5 ,  0.5 ],\n",
       "       [ 0.45,  0.45]])"
      ]
     },
     "execution_count": 49,
     "metadata": {},
     "output_type": "execute_result"
    }
   ],
   "source": [
    "p_x2_y1"
   ]
  }
 ],
 "metadata": {
  "kernelspec": {
   "display_name": "Python 3",
   "language": "python",
   "name": "python3"
  },
  "language_info": {
   "codemirror_mode": {
    "name": "ipython",
    "version": 3
   },
   "file_extension": ".py",
   "mimetype": "text/x-python",
   "name": "python",
   "nbconvert_exporter": "python",
   "pygments_lexer": "ipython3",
   "version": "3.6.1"
  }
 },
 "nbformat": 4,
 "nbformat_minor": 2
}
